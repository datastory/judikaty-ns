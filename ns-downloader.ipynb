{
 "cells": [
  {
   "cell_type": "code",
   "execution_count": 37,
   "metadata": {
    "collapsed": true
   },
   "outputs": [],
   "source": [
    "from bs4 import BeautifulSoup\n",
    "import urllib\n",
    "import re"
   ]
  },
  {
   "cell_type": "code",
   "execution_count": 42,
   "metadata": {
    "collapsed": false
   },
   "outputs": [],
   "source": [
    "link = \"http://www.nsoud.cz/Judikatura/judikatura_ns.nsf/$$WebSearch1?SearchView&Query=%5Bdatum_rozhodnuti%5D%3E%3D01%2F01%2F2007%20AND%20%5BARozhodnutiRT%5D%3Dnutn%C3%A1%20obrana&SearchMax=1000&pohled=1&start=1&Count=500\"\n",
    "\n",
    "page = urllib.request.urlopen(link).read()\n",
    "soup = BeautifulSoup(page)"
   ]
  },
  {
   "cell_type": "code",
   "execution_count": 71,
   "metadata": {
    "collapsed": false
   },
   "outputs": [],
   "source": [
    "for row in soup.find_all('tr'):\n",
    "    spzn = row.find('a', href=re.compile('WebSearch')).text\n",
    "    link = 'http://www.nsoud.cz' + str(row.find('a', href=re.compile('CreateWordDocBody'))).split('a href=\"')[1].split('\"><img')[0].replace('amp;', '')\n",
    "    \n",
    "    req = urllib.request.Request(link)\n",
    "    req.add_header('Referer', 'http://www.nsoud.cz/Judikatura/judikatura_ns.nsf/$$WebSearch1?SearchView&Query=%5Bdatum_rozhodnuti%5D%3E%3D01%2F01%2F2007%20AND%20%5BARozhodnutiRT%5D%3Dnutn%C3%A1%20obrana&SearchMax=1000&pohled=1&start=1&Count=50')\n",
    "    r = urllib.request.urlopen(req)\n",
    "\n",
    "    output = open('data/' + spzn.replace('/', '-') + '.doc','wb')\n",
    "    output.write(r.read())\n",
    "    output.close()"
   ]
  }
 ],
 "metadata": {
  "kernelspec": {
   "display_name": "Python 3",
   "language": "python",
   "name": "python3"
  },
  "language_info": {
   "codemirror_mode": {
    "name": "ipython",
    "version": 3
   },
   "file_extension": ".py",
   "mimetype": "text/x-python",
   "name": "python",
   "nbconvert_exporter": "python",
   "pygments_lexer": "ipython3",
   "version": "3.4.3"
  }
 },
 "nbformat": 4,
 "nbformat_minor": 0
}
